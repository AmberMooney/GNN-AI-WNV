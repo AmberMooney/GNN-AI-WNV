{
 "cells": [
  {
   "cell_type": "markdown",
   "id": "8691043f-37e3-437d-afc8-c1cce393c13e",
   "metadata": {},
   "source": [
    "# Predicting equine West Nile Virus (WNV) cases by county using a graph LSTM neural network (GLSTM) for binary classification"
   ]
  },
  {
   "cell_type": "markdown",
   "id": "76973378-1c57-4bf9-b706-d0b5662f3100",
   "metadata": {},
   "source": [
    "This tutorial walks through predicting equine West Nile virus (WNV) cases by county, using a graph LSTM (GLSTM) neural network model that leverages both spatial and temporal dependencies. The model integrates graph neural networks with LSTM layers to capture complex patterns in WNV transmission, enabling binary predictions of equine case presence. By incorporating county-level features and historical data, this GLSTM-based framework aims to provide an accurate, data-driven tool for identifying regions at high risk for equine WNV cases, supporting more targeted intervention and prevention strategies. Please note that to run this notebook, you will need to use the grwg_2024_env Jupyter kernel."
   ]
  },
  {
   "cell_type": "markdown",
   "id": "9fd032d4-d110-4c38-9f7c-c792234e1858",
   "metadata": {},
   "source": [
    "**Primary Libraries/Packages**:\r\n",
    "\r\n",
    "| Name               | Description                                                                                                      | Link                                                                                      |\r\n",
    "|--------------------|------------------------------------------------------------------------------------------------------------------|-------------------------------------------------------------------------------------------|\r\n",
    "| `pandas`           | Data manipulation and analysis library for Python.                                                              | [pandas](https://pandas.pydata.org/)                                                     |\r\n",
    "| `geopandas`        | Extends `pandas` to handle geographic data and spatial operations.                                              | [geopandas](https://geopandas.org/)                                                      |\r\n",
    "| `numpy`            | Fundamental library for numerical computation in Python.                                                        | [numpy](https://numpy.org/)                                                              |\r\n",
    "| `torch`            | Deep learning framework by PyTorch for tensor computation and neural network models.                            | [torch](https://pytorch.org/)                                                            |\r\n",
    "| `matplotlib`       | Comprehensive library for creating static, animated, and interactive visualizations in Python.                  | [matplotlib](https://matplotlib.org/)                                                    |\r\n",
    "| `torchmetrics`     | Library of metrics for evaluating PyTorch models, supporting many tasks like classification and regression.      | [torchmetrics](https://torchmetrics.readthedocs.io/)                                     |\r\n",
    "| `networkx`         | Library for creating, analyzing, and visualizing complex networks and graphs.                                   | [networkx](https://networkx.github.io/)                                                  |\r\n",
    "| `libpysal`         | Spatial analysis library in Python, used for spatial statistics and econometrics.                               | [libpysal](https://pysal.org/libpysal/)                                                  |\r\n",
    "| `scikit-learn`     | Comprehensive library for machine learning, with tools for classification, regression, clustering, and more.    | [scikit-learn](https://scikit-learn.org/)                                                |\r\n",
    "| `torch-geometric`  | Extension library for PyTorch with support for deep learning on graphs and other irregular structures.          | [torch-geometric](https://pytorch-geometric.readthedocs.io/)                             |\r\n",
    "| `captum`           | Model interpretability library for PyTorch, providing tools to understand and interpret model predictions.      | [captum](https://captum.ai/)                                                             |\r\n",
    "| `imbalanced-learn` | Tools for handling imbalanced datasets, such as oversampling and undersampling techniques.                      | [imbalanced-learn](https://imbalanced-learn.org/)                                        |\r\n",
    "| `seaborn`          | Statistical data visualization library based on `matplotlib`, providing a high-level interface for drawing plots.| [seaborn](https://seaborn.pydata.org/)                                                   |\r\n",
    "| `pytorch-lightning`| Lightweight wrapper for PyTorch that simplifies model training and accelerates development.                     | [pytorch-lightning](https://www.pytorchlightning.ai/)                                    |\r\n"
   ]
  },
  {
   "cell_type": "markdown",
   "id": "f71b34b2-063b-4fb7-a1b0-8f9c973e27c2",
   "metadata": {},
   "source": [
    "*Terminology*:\n",
    "\n",
    "* Binary Classification: A type of classification where the model predicts one of two possible classes, often represented as \"0\" and \"1\". In our case, 0 refers to disease absence and 1 disease presence. Data is collected/aggregated to county per week for a subset of US states (KS, OK, TX, LA, AR, MS) and predictions are made per county/week. \n",
    "\n",
    "* Graph Neural Network (GNN): A neural network architecture designed to operate on graph-structured data. It captures relationships between entities, such as spatial connections. \n",
    "\n",
    "* LSTM (Long Short-Term Memory): A type of recurrent neural network (RNN) that can capture long-term dependencies in sequential data, useful for time series predictions.\n",
    "\n",
    "* GLSTM (Graph LSTM): A combination of GNNs and LSTMs, where spatial dependencies (modeled by GNNs) and temporal dependencies (modeled by LSTMs) are integrated to handle both spatial and temporal data."
   ]
  },
  {
   "cell_type": "markdown",
   "id": "9df5e090-3a15-450b-a909-768d3ceff3b3",
   "metadata": {},
   "source": [
    "*Tutorial Outline*:\n",
    "* 1\\. **[Exploring the dataset and problem space](#1.-Exploring-the-dataset-and-problem-space)**\n",
    "* 2\\. **[Training the GLSTM model to predict disease presence/absence](#2.-Training-the-GLSTM-model-to-predict-disase-presence/absence)**\n",
    "* 3\\. **[Evaluating training performance and visualizing predictions](#3.-Evaluating-training-performance-and-visualizing-predictions)**\n",
    "* 4\\. **[Mapping Predictions vs. Reported vs. Differences](#4.-Mapping-Predictions-vs.-Reported-vs.-Differences)**"
   ]
  },
  {
   "cell_type": "markdown",
   "id": "0b6a3c90-122a-44ba-8e15-e9276b9ced54",
   "metadata": {},
   "source": [
    "# 0. Preliminaries"
   ]
  },
  {
   "cell_type": "code",
   "execution_count": null,
   "id": "65188403-37dc-4334-a066-04e7b2f6725c",
   "metadata": {},
   "outputs": [],
   "source": [
    "# Import necessary libraries\n",
    "import torch\n",
    "import pandas as pd\n",
    "import matplotlib.pyplot as plt\n",
    "import geopandas as gpd\n",
    "import numpy as np\n",
    "from sklearn.metrics import precision_score, recall_score, f1_score\n",
    "import torch.nn as nn\n",
    "from GLSTM_models import GLSTM4\n",
    "from GLSTM_utils import merge_data, align, get_neighbors, resample_and_order, split_normalize_format, plot_loss_accuracy, get_predictions, match_predictions, conf_mat, plot_gradient_importance, plot_roc_curve, map_results,  keep_most_frequent, calculate_feature_importance, plot_feature_importance\n",
    "from GLSTM_training import train2, evaluate"
   ]
  },
  {
   "cell_type": "markdown",
   "id": "9326708d-5b9c-40c1-bcdb-2d98da3e4c2b",
   "metadata": {},
   "source": [
    "# Data and Model Varibales:"
   ]
  },
  {
   "cell_type": "markdown",
   "id": "43f62840-d117-4714-973f-d8d58f7aae7f",
   "metadata": {},
   "source": [
    "# a. Habitat Heterogeneity\n",
    "All data was collected at a 1x1 km spatial resolution. Source: [Tuanmu, M.-N., and W. Jetz. (2015)](https://doi.org/10.1111/geb.12365)\n",
    "\n",
    "| **Description**                                                                                 |\n",
    "|-------------------------------------------------------------------------------------------------|\n",
    "| Coefficient of variation (cv)/ Normalized dispersion of EVI                                   |\n",
    "| Evenness of EVI                                                                                |\n",
    "| Range of EVI                                                                                   |\n",
    "| Shannon / Diversity of EVI                                                                     |\n",
    "| Simpson / Diversity of EVI                                                                      |\n",
    "| Standard Deviation(std) / Dispersion of EVI                                                    |\n",
    "| Contrast / Exponentially weighted difference in EVI between adjacent pixels                   |\n",
    "| Correlation / Linear dependency of EVI on adjacent pixels                                     |\n",
    "| Dissimilarity / Difference in EVI between adjacent pixels                                      |\n",
    "| Entropy / Disorderliness of EVI                                                                  |\n",
    "| Homogeneity / Similarity of EVI between adjacent pixels                                        |\n",
    "| Maximum / Dominance of EVI combinations between adjacent pixels                                 |\n",
    "| Uniformity / Orderliness of EVI                                                                |\n",
    "| Variance / Dispersion of EVI combinations between adjacent pixels                               |\n"
   ]
  },
  {
   "cell_type": "markdown",
   "id": "cc82a0e5-f846-4a97-8c8d-91bfd89627c5",
   "metadata": {},
   "source": [
    "# b. Land Cover Data\n",
    "All data was extracted at a 1x1 km spatial resolution. Source: [Tuanmu and Jetz (2014)](https://doi.org/10.1111/geb.12182)\n",
    "\n",
    "| **Class Number** | **Description**                                     |\n",
    "|-------------------|-----------------------------------------------------|\n",
    "| 1                 | Evergreen/Deciduous Needleleaf Trees               |\n",
    "| 2                 | Evergreen Broadleaf Trees                            |\n",
    "| 3                 | Deciduous Broadleaf Trees                            |\n",
    "| 4                 | Mixed/Other Trees                                   |\n",
    "| 5                 | Shrubs                                              |\n",
    "| 6                 | Herbaceous Vegetation                               |\n",
    "| 7                 | Cultivated and Managed Vegetation                   |\n",
    "| 8                 | Regularly Flooded Vegetation                        |\n",
    "| 9                 | Urban/Built-up                                      |\n",
    "| 10                | Snow/Ice                                           |\n",
    "| 11                | Barren                                             |\n",
    "| 12                | Open Water                                         |"
   ]
  },
  {
   "cell_type": "markdown",
   "id": "355e7049-e42c-4e27-ba56-25a0554cefb0",
   "metadata": {},
   "source": [
    "# c. Topographic Data\n",
    "All data extracted at a 1x1 km spatial resolution. Source: [Amatulli et al. (2018)](https://doi.org/10.1038/sdata.2018.40)\n",
    "\n",
    "| **Description**                  |\n",
    "|----------------------------------|\n",
    "| Aspect Cosine                    |\n",
    "| Aspect Sine                      |\n",
    "| Elevation                        |\n",
    "| Profile Curvature (pcurv)       |\n",
    "| Roughness                        |\n",
    "| Slope                            |\n",
    "| Tangential Curvature (tcurv)    |\n",
    "| Topographic Position Index (tpi) |\n",
    "| Terrain Ruggedness Index (tri)   |\n",
    "| Vector Ruggedness Measure (vrm)  |"
   ]
  },
  {
   "cell_type": "markdown",
   "id": "8f8a15a1-0e61-4bce-ad21-8129ed2352ea",
   "metadata": {},
   "source": [
    "# d. Other Feature and Target Variable\r\n",
    "\r\n",
    "| **Description**                                                             | **Source**                                                                                                                                                 | **Resolution**         | **Static/Dynamic** |\r\n",
    "|-----------------------------------------------------------------------------|-----------------------------------------------------------------------------------------------------------------------------------------------------------|------------------------|---------------------|\r\n",
    "| **Target**                                                                  |                                                                                                                                                           |                        |                     |\r\n",
    "| Equine West Nile Virus (WNV) Incidence Reports                             | [ArboNET](https://www.cdc.gov/mosquitoes/php/arbonet/index.html)                                                                                       | Weekly                 | Dynamic             |\r\n",
    "| **Features**                                                                |                                                                                                                                                           |                        |                     |\r\n",
    "| Bird and Mosquito West Nile Virus Surveillance Reports                       | [ArboNET](https://www.cdc.gov/mosquitoes/php/arbonet/index.html)                                                                                       | Weekly                 | Dynamic             |\r\n",
    "| Temperature                                                                 | [PRISM Climate Group](https://prism.oregonstate.edu)                                                                                                    | Monthly                | Dynamic             |\r\n",
    "| Precipitation Data                                                           | [PRISM Climate Group](https://prism.oregonstate.edu)                                                                                                    | Monthly                | Dynamic             |\r\n",
    "| Drought Data                                                                | [NOAA](https://www.ncdc.noaa.gov/)                                                                                                                      | Monthly                | Dynamic             |\r\n",
    "| Normalized Difference Vegetation Index (NDVI)                              | [MODIS/Terra Vegetation Indices](https://doi.org/10.1038/sdata.2018.227)                                                                               | Annual, 1x1 km        | Dynamic             |\r\n",
    "| County-Level Human Population Estimate                                       | [U.S. Census Bureau](https://www.census.gov/)                                                                                                           | 2020                   | Static              |\r\n",
    "| Bird Species Richness                                                       | [Humphreys et al. (2021)](https://doi.org/10.3390/v13091811), [eBird Database](https://doi.org/10.1016/j.biocon.2013.11.003)                           | Weekly                 | Dynamic             |\r\n",
    "| County-level Horse Counts                                                   | [Humphreys et al. (2021)](https://doi.org/10.3390/v13091811), [Gridded Livestock of the World](https://doi.org/10.1038/sdata.2018.227)                 | Time-invariant         | Static              |\r\n",
    "          |\r\n"
   ]
  },
  {
   "cell_type": "markdown",
   "id": "3a87cd14-156c-40c1-8b50-4b245663f6b0",
   "metadata": {},
   "source": [
    "### 1. Exploring the dataset and problem space"
   ]
  },
  {
   "cell_type": "code",
   "execution_count": null,
   "id": "7642a7a0-22ad-4443-8e7d-b78a9429da8f",
   "metadata": {},
   "outputs": [],
   "source": [
    "#read in the data\n",
    "reduced_features = pd.read_csv(\"reduced_features.csv\")\n",
    "south_counties = gpd.read_file(\"south_counties.shp\")\n",
    "earthenv = pd.read_csv(\"earthenv_2024-09-03.csv\")\n",
    "habitat_hetero = pd.read_csv(\"habitat_hetero_2024-09-03.csv\")\n",
    "topographic = pd.read_csv(\"topographic_2024-09-03.csv\")\n",
    "ndvi = pd.read_csv(\"ndvi_2024-09-05.csv\")"
   ]
  },
  {
   "cell_type": "code",
   "execution_count": null,
   "id": "b48ba9d9-1852-4700-8b18-e5c87c393840",
   "metadata": {},
   "outputs": [],
   "source": [
    "#merge all tabular data into a single dataframe using the merge_data function from GLSTM_utils.py\n",
    "all_merge = merge_data(earthenv, topographic, habitat_hetero, reduced_features, ndvi)"
   ]
  },
  {
   "cell_type": "code",
   "execution_count": null,
   "id": "f832640d-a70c-4f95-90c9-8be2477abcfb",
   "metadata": {},
   "outputs": [],
   "source": [
    "#Merge the csv with the shapefile, standardize column names, and drop unneccesary columns \n",
    "df = align(all_merge, south_counties)"
   ]
  },
  {
   "cell_type": "code",
   "execution_count": null,
   "id": "f66d8838-d30d-4e5a-8b99-4b912894eeba",
   "metadata": {},
   "outputs": [],
   "source": [
    "#Generates the adjacency matrix from the shapefile\n",
    "adj_matrix = get_neighbors(south_counties)"
   ]
  },
  {
   "cell_type": "code",
   "execution_count": null,
   "id": "4b94488e-157e-427a-988d-560e736adcbb",
   "metadata": {},
   "outputs": [],
   "source": [
    "#2798 samples with WNV Presence out of 319302 total samples. \n",
    "df['Binary'].sum()"
   ]
  },
  {
   "cell_type": "code",
   "execution_count": null,
   "id": "20c5c524-456c-491f-bf9e-6f5e43ec8bd3",
   "metadata": {},
   "outputs": [],
   "source": [
    "#Performs oversampling to balance the classes, ensures temporal order, and provides a DF used to map the results\n",
    "ordered, resampled_indices, to_match = resample_and_order(df, resample = True)"
   ]
  },
  {
   "cell_type": "code",
   "execution_count": null,
   "id": "a7ac9415-8f7a-434c-a24e-67c8daa9eb10",
   "metadata": {},
   "outputs": [],
   "source": [
    "# Filter data for validation\n",
    "val_data = ordered[(ordered['Year'] == 2018) | (ordered['Year'] ==2019)]\n",
    "    \n",
    "# Filter data for training (excluding test/val years)\n",
    "train_data = ordered[~ordered['Year'].isin(['2012', '2018', '2019'])]\n",
    "\n",
    "# Fileter data for testing\n",
    "test_data = ordered[ordered['Year'] ==2012]"
   ]
  },
  {
   "cell_type": "code",
   "execution_count": null,
   "id": "fbbd791d-0ded-421e-974d-5d59d80f0b07",
   "metadata": {},
   "outputs": [],
   "source": [
    "#Performs train/test split, normalization, and generates geometric data objects used as inputs for Pytorch models\n",
    "#Set split to false while inputing a subset of data to generate a training set and perform all other preprocessing steps\n",
    "data_train, X_train_normalized, node_id_train = split_normalize_format(train_data, resampled_indices, adj_matrix, split=False)"
   ]
  },
  {
   "cell_type": "code",
   "execution_count": null,
   "id": "247a5ce0-e94d-430d-8f2d-91b858551381",
   "metadata": {},
   "outputs": [],
   "source": [
    "#Performs train/test split, normalization, and generates geometric data objects used as inputs for Pytorch models\n",
    "#Set split to false while inputing a subset of data to generate a validation set and perform all other preprocessing steps\n",
    "data_val, X_val_normalized, node_id_val = split_normalize_format(val_data, resampled_indices, adj_matrix, split=False)"
   ]
  },
  {
   "cell_type": "code",
   "execution_count": null,
   "id": "04f8a2d1-f324-4042-859c-f08b97fb2c86",
   "metadata": {},
   "outputs": [],
   "source": [
    "#Performs train/test split, normalization, and generates geometric data objects used as inputs for Pytorch models\n",
    "#Set split to false while inputing a subset of data to generate a testing set and perform all other preprocessing steps\n",
    "data_test, X_test_normalized, node_id_test = split_normalize_format(test_data, resampled_indices, adj_matrix, split=False)"
   ]
  },
  {
   "cell_type": "markdown",
   "id": "5d5422bb-0eb3-4bef-a859-7598e1da6dd6",
   "metadata": {},
   "source": [
    "### 2. Training the GLSTM model to predict disease presence/absence"
   ]
  },
  {
   "cell_type": "code",
   "execution_count": null,
   "id": "10ac2503-a8f7-46bc-a9d6-a62cf4f1b31e",
   "metadata": {},
   "outputs": [],
   "source": [
    "# Instantiate the model\n",
    "input_dim = X_train_normalized.shape[1]\n",
    "#input_dim = 54\n",
    "hidden_dim1 = 32\n",
    "dropout = 0.2\n",
    "activation_function = torch.relu\n",
    "hidden_dim2 = 32\n",
    "hidden_dim3 = 32\n",
    "hidden_dim4 = 32\n",
    "hidden_dim5 = 32\n",
    "output_dim = 2  # Assuming binary classification\n",
    "model = GLSTM4(input_dim, hidden_dim1, hidden_dim2, hidden_dim3, hidden_dim4, hidden_dim5, output_dim, dropout, activation_function)"
   ]
  },
  {
   "cell_type": "code",
   "execution_count": null,
   "id": "2eebeccc-c839-4ff2-ba75-e49320619906",
   "metadata": {},
   "outputs": [],
   "source": [
    "# Set up training parameters, optimizer, and criterion\n",
    "criterion = nn.CrossEntropyLoss()\n",
    "optimizer = torch.optim.Adam(model.parameters(), lr=0.01)"
   ]
  },
  {
   "cell_type": "code",
   "execution_count": null,
   "id": "33e3dea9-8004-4905-9e8b-31317534dd25",
   "metadata": {},
   "outputs": [],
   "source": [
    "%%time\n",
    "# Train loop\n",
    "num_epochs = 100\n",
    "#store histories\n",
    "train_loss_history = []\n",
    "train_acc_history = []\n",
    "val_loss_history = []\n",
    "val_acc_history = []\n",
    "all_gradients =[]\n",
    "for epoch in range(num_epochs):\n",
    "    #train\n",
    "    train_loss, train_acc, gradients, param_names = train2(model, data_train, criterion, optimizer)\n",
    "    \n",
    "    #save gradients\n",
    "    all_gradients.append(gradients)\n",
    "    test_loss, test_accuracy = evaluate(model, data_test, criterion, optimizer)\n",
    "\n",
    "    #save training and testing data\n",
    "    train_loss_history.append(train_loss)\n",
    "    train_acc_history.append(train_acc)\n",
    "    val_loss_history.append(test_loss)\n",
    "    val_acc_history.append(test_accuracy)\n",
    "\n",
    "    #print evaluation metrics\n",
    "    print(f'Epoch {epoch+1}/{num_epochs}, TestLoss: {test_loss:.4f}, TestAccuracy: {test_accuracy:.4f}, TrainLoss: {train_loss:.4f}, TrainAccuracy: {train_acc:.4f}')"
   ]
  },
  {
   "cell_type": "code",
   "execution_count": null,
   "id": "666d24e5-391a-438e-9ae2-6ad50bc3731c",
   "metadata": {},
   "outputs": [],
   "source": [
    "name_mapping_features = {\n",
    "    'AVI': 'Avian WNV',\n",
    "    'MOS': 'Mosquito WNV',\n",
    "    'SEN': 'Chicken WNV',\n",
    "    'PPT': 'Precipitation',\n",
    "    'Temp': 'Temperature',\n",
    "    'None': 'No Drought',\n",
    "    'D0': 'Drought 0',\n",
    "    'D1': 'Drought 1',\n",
    "    'D2': 'Drought 2',\n",
    "    'D3': 'Drought 3',\n",
    "    'D4': 'Drought 4',\n",
    "    'Richness': 'Bird Richness',\n",
    "    'Horses': 'Horse Count',\n",
    "    'class_1': 'Needleleaf Trees',\n",
    "    'class_10': 'Snow/Ice',\n",
    "    'class_11': 'Barren',\n",
    "    'class_12': 'Open Water',\n",
    "    'class_2': 'Evergreen Trees',\n",
    "    'class_3': 'Deciduous Trees',\n",
    "    'class_4': 'Mixed Trees',\n",
    "    'class_5': 'Shrubs',\n",
    "    'class_6': 'Herbaceous',\n",
    "    'class_7': 'Cultivated Vegetation',\n",
    "    'class_8': 'Flooded Vegetation',\n",
    "    'class_9': 'Urban',\n",
    "    'Contrast': 'EVI Contrast',\n",
    "    'Correlation': 'EVI Correlation',\n",
    "    'cv': 'EVI Dispersion',\n",
    "    'Dissimilarity': 'EVI Dissimilarity',\n",
    "    'Entropy': 'EVI Entropy',\n",
    "    'evenness': 'EVI Evenness',\n",
    "    'Homogeneity': 'EVI Homogeneity',\n",
    "    'Maximum': 'EVI Dominance',\n",
    "    'range': 'EVI Range',\n",
    "    'shannon': 'Shannon Index',\n",
    "    'simpson': 'Simpson Index',\n",
    "    'std': 'EVI Std Dev',\n",
    "    'Uniformity': 'EVI Uniformity',\n",
    "    'Variance': 'EVI Variance',\n",
    "    'aspectcosine': 'Eastness',\n",
    "    'aspectsine': 'Northness',\n",
    "    'elevation': 'Elevation',\n",
    "    'pcurv': 'Profile Curve',\n",
    "    'roughness': 'Roughness',\n",
    "    'slope': 'Slope',\n",
    "    'tcurv': 'Tangential Curve',\n",
    "    'tpi': 'Topo Position',\n",
    "    'tri': 'Terrain Roughness',\n",
    "    'vrm': 'Vector Ruggedness',\n",
    "    'Value': 'NDVI'\n",
    "}\n"
   ]
  },
  {
   "cell_type": "code",
   "execution_count": null,
   "id": "b9622d1f-f982-4f2d-ac93-166ca6a396da",
   "metadata": {},
   "outputs": [],
   "source": [
    "# Calculate feature importance\n",
    "importance_dict = calculate_feature_importance(model, data_train, 0, feature_names, device='cpu')\n",
    "\n",
    "plot_feature_importance(importance_dict, threshold=5, name_mapping=name_mapping_features)"
   ]
  },
  {
   "cell_type": "markdown",
   "id": "5fcbbabd-209b-41ff-b5c9-9d46440661a0",
   "metadata": {},
   "source": [
    "### 3. Evaluating training performance and visualizing predictions"
   ]
  },
  {
   "cell_type": "code",
   "execution_count": null,
   "id": "266c49cf-fb78-4596-9815-ef09da97221b",
   "metadata": {},
   "outputs": [],
   "source": [
    "plot_loss_accuracy(train_loss_history, train_acc_history, val_loss_history, val_acc_history)"
   ]
  },
  {
   "cell_type": "code",
   "execution_count": null,
   "id": "699845b0-f93b-40e5-8a78-98758d142fd8",
   "metadata": {},
   "outputs": [],
   "source": [
    "y_true, y_pred = get_predictions(model, data_val)"
   ]
  },
  {
   "cell_type": "code",
   "execution_count": null,
   "id": "7e68495a-da6d-484c-88d5-6512867d456b",
   "metadata": {},
   "outputs": [],
   "source": [
    "conf_mat(y_true, y_pred)"
   ]
  },
  {
   "cell_type": "code",
   "execution_count": null,
   "id": "bf8e33a0-6bc0-4caf-abaf-99fb0d283c7b",
   "metadata": {},
   "outputs": [],
   "source": [
    "precision = precision_score(y_true, y_pred, average='binary')\n",
    "recall = recall_score(y_true, y_pred, average='binary')\n",
    "f1 = f1_score(y_true, y_pred, average='binary')\n",
    "\n",
    "print(f'Precision: {precision:.4f}')\n",
    "print(f'Recall: {recall:.4f}')\n",
    "print(f'F1 Score: {f1:.4f}')"
   ]
  },
  {
   "cell_type": "code",
   "execution_count": null,
   "id": "cc4e075c-dcc4-432b-b126-682be9fa05d9",
   "metadata": {},
   "outputs": [],
   "source": [
    "plot_roc_curve(y_true, y_pred)"
   ]
  },
  {
   "cell_type": "code",
   "execution_count": null,
   "id": "62d4107a-bd52-4ae7-bd78-05378d351a15",
   "metadata": {},
   "outputs": [],
   "source": [
    "name_mapping_grads = {\n",
    "    'conv1.bias': 'Convolution 1 Bias',\n",
    "    'conv1.lin.weight': 'Convolution 1 Weights',\n",
    "    'lstm1.weight_ih_l0': 'LSTM 1 Input Weights',\n",
    "    'lstm1.weight_hh_l0': 'LSTM 1 Hidden Weights',\n",
    "    'lstm1.bias_ih_l0': 'LSTM 1 Input Bias',\n",
    "    'lstm1.bias_hh_l0': 'LSTM 1 Hidden Bias',\n",
    "    'conv2.bias': 'Convolution 2 Bias',\n",
    "    'conv2.lin.weight': 'Convolution 2 Weights',\n",
    "    'conv3.bias': 'Convolution 3 Bias',\n",
    "    'conv3.lin.weight': 'Convolution 3 Weights',\n",
    "    'conv4.bias': 'Convolution 4 Bias',\n",
    "    'conv4.lin.weight': 'Convolution 4 Weights',\n",
    "    'conv5.bias': 'Convolution 5 Bias',\n",
    "    'conv5.lin.weight': 'Convolution 5 Weights',\n",
    "    'fc.weight': 'Fully Connected Layer Weights',\n",
    "    'fc.bias': 'Fully Connected Layer Bias'\n",
    "}\n"
   ]
  },
  {
   "cell_type": "code",
   "execution_count": null,
   "id": "8b125f73-9835-46ab-8adf-06a2786b8b02",
   "metadata": {},
   "outputs": [],
   "source": [
    "plot_gradient_importance(param_names, gradients, name_mapping_grads)"
   ]
  },
  {
   "cell_type": "code",
   "execution_count": null,
   "id": "1a670d44-1241-4f5b-bc22-02cd74b203d0",
   "metadata": {},
   "outputs": [],
   "source": [
    "preds = match_predictions(model, data_test, node_id_test, to_match, south_counties)"
   ]
  },
  {
   "cell_type": "code",
   "execution_count": null,
   "id": "b747473a-6ec5-4806-889b-9d7a178416ce",
   "metadata": {},
   "outputs": [],
   "source": [
    "df_unique = keep_most_frequent(preds, ['Year', 'Week', 'node_id'], 'ClassLabel')"
   ]
  },
  {
   "cell_type": "markdown",
   "id": "898809d4-b0fc-4578-be01-9b2f5049c1ef",
   "metadata": {},
   "source": [
    "### 4. Mapping Predictions vs. Reported vs. Differences"
   ]
  },
  {
   "cell_type": "code",
   "execution_count": null,
   "id": "e927a027-0457-402d-8d20-2eb592438504",
   "metadata": {},
   "outputs": [],
   "source": [
    "states = gpd.read_file('cb_2018_us_state_500k.shp')\n",
    "south_states = states[states['NAME'].isin(['Mississippi', 'Arkansas', 'Louisiana', 'Texas', 'Kansas', 'Oklahoma'])]"
   ]
  },
  {
   "cell_type": "code",
   "execution_count": null,
   "id": "4fd1b60a-9efd-4594-b250-6c4639af11f9",
   "metadata": {},
   "outputs": [],
   "source": [
    "# Check the CRS of both GeoDataFrames\n",
    "print(f\"Base GeoDataFrame CRS: {results_agg_gdf.crs}\")\n",
    "print(f\"Overlay GeoDataFrame CRS (south states): {south_states.crs}\")"
   ]
  },
  {
   "cell_type": "code",
   "execution_count": null,
   "id": "1e8f91be-2d5d-4b11-8900-835899eeda14",
   "metadata": {},
   "outputs": [],
   "source": [
    "results_agg_gdf, states_gdf = prepare_for_mapping(df_unique, south_counties, south_states)"
   ]
  },
  {
   "cell_type": "code",
   "execution_count": null,
   "id": "2d10a3c6-c3ff-4f89-8b94-723f6403c7a2",
   "metadata": {},
   "outputs": [],
   "source": [
    "map_results4(2012, south_counties, results_agg_gdf, south_states)"
   ]
  },
  {
   "cell_type": "code",
   "execution_count": null,
   "id": "2c003836-aff5-47e1-a143-7185ac6060fd",
   "metadata": {},
   "outputs": [],
   "source": [
    "#get 2018, 2019 predictions\n",
    "preds = match_predictions(model, data_val, node_id_val, to_match, south_counties, [2018,2019])"
   ]
  },
  {
   "cell_type": "code",
   "execution_count": null,
   "id": "221cfc21-9963-44cb-abd1-ef42130816ea",
   "metadata": {},
   "outputs": [],
   "source": [
    "df_unique = keep_most_frequent(preds, ['Year', 'Week', 'node_id'], 'ClassLabel')"
   ]
  },
  {
   "cell_type": "code",
   "execution_count": null,
   "id": "d626a922-f35f-4952-9d18-9dd6727be840",
   "metadata": {},
   "outputs": [],
   "source": [
    "results_agg_gdf, states_gdf = prepare_for_mapping(df_unique, south_counties, south_states)"
   ]
  },
  {
   "cell_type": "code",
   "execution_count": null,
   "id": "50c6000b-bd0f-479a-97a3-99c035196658",
   "metadata": {},
   "outputs": [],
   "source": [
    "map_results4([2018,2019], south_counties, results_agg_gdf, south_states)"
   ]
  }
 ],
 "metadata": {
  "kernelspec": {
   "display_name": "Python 3 (ipykernel)",
   "language": "python",
   "name": "python3"
  },
  "language_info": {
   "codemirror_mode": {
    "name": "ipython",
    "version": 3
   },
   "file_extension": ".py",
   "mimetype": "text/x-python",
   "name": "python",
   "nbconvert_exporter": "python",
   "pygments_lexer": "ipython3",
   "version": "3.8.18"
  }
 },
 "nbformat": 4,
 "nbformat_minor": 5
}
